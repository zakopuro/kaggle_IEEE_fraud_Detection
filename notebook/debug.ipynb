{
 "cells": [
  {
   "cell_type": "code",
   "execution_count": 2,
   "metadata": {},
   "outputs": [],
   "source": [
    "import numpy as np\n",
    "import pandas as pd\n",
    "import matplotlib.pyplot as plt\n",
    "from tqdm import tqdm\n",
    "from sklearn import preprocessing\n",
    "import pandas_profiling as pdf\n",
    "from sklearn.model_selection import TimeSeriesSplit"
   ]
  },
  {
   "cell_type": "code",
   "execution_count": 19,
   "metadata": {},
   "outputs": [],
   "source": [
    "df_train_iden = pd.read_csv('../input/train_identity.csv')\n",
    "df_train_trans = pd.read_csv('../input/train_transaction.csv')\n",
    "df_test_iden = pd.read_csv('../input/test_identity.csv')\n",
    "df_test_trans = pd.read_csv('../input/test_transaction.csv')\n",
    "\n",
    "df_train = pd.merge(df_train_trans, df_train_iden, on='TransactionID', how='left')\n",
    "df_test = pd.merge(df_test_trans, df_test_iden, on='TransactionID', how='left')"
   ]
  },
  {
   "cell_type": "code",
   "execution_count": 45,
   "metadata": {},
   "outputs": [],
   "source": [
    "splits = TimeSeriesSplit(n_splits=5)"
   ]
  },
  {
   "cell_type": "code",
   "execution_count": 47,
   "metadata": {},
   "outputs": [
    {
     "data": {
      "image/png": "[encoded data removed]",
      "text/plain": [
       "<Figure size 432x288 with 5 Axes>"
      ]
     },
     "metadata": {
      "needs_background": "light"
     },
     "output_type": "display_data"
    }
   ],
   "source": [
    "index = 1\n",
    "for train_index,test_index in splits.split(df_train):\n",
    "    X_train = df_train['TransactionDT'][train_index]\n",
    "    X_test = df_train['TransactionDT'][test_index]\n",
    "    plt.subplot(510 + index)\n",
    "    plt.plot(X_train)\n",
    "    plt.plot([None for i in X_train]+[x for x in X_test])\n",
    "    index += 1"
   ]
  },
  {
   "cell_type": "code",
   "execution_count": 49,
   "metadata": {},
   "outputs": [
    {
     "data": {
      "text/plain": [
       "98423.33333333333"
      ]
     },
     "execution_count": 49,
     "metadata": {},
     "output_type": "execute_result"
    }
   ],
   "source": [
    "len(df_train)/6"
   ]
  },
  {
   "cell_type": "code",
   "execution_count": 69,
   "metadata": {},
   "outputs": [
    {
     "name": "stdout",
     "output_type": "stream",
     "text": [
      "Int64Index([     0,      1,      2,      3,      4,      5,      6,      7,\n",
      "                 8,      9,\n",
      "            ...\n",
      "            295260, 295261, 295262, 295263, 295264, 295265, 295266, 295267,\n",
      "            295268, 295269],\n",
      "           dtype='int64', length=295270)\n",
      "Int64Index([295270, 295271, 295272, 295273, 295274, 295275, 295276, 295277,\n",
      "            295278, 295279,\n",
      "            ...\n",
      "            393683, 393684, 393685, 393686, 393687, 393688, 393689, 393690,\n",
      "            393691, 393692],\n",
      "           dtype='int64', length=98423)\n",
      "Int64Index([ 98423,  98424,  98425,  98426,  98427,  98428,  98429,  98430,\n",
      "             98431,  98432,\n",
      "            ...\n",
      "            393683, 393684, 393685, 393686, 393687, 393688, 393689, 393690,\n",
      "            393691, 393692],\n",
      "           dtype='int64', length=295270)\n",
      "Int64Index([393693, 393694, 393695, 393696, 393697, 393698, 393699, 393700,\n",
      "            393701, 393702,\n",
      "            ...\n",
      "            492106, 492107, 492108, 492109, 492110, 492111, 492112, 492113,\n",
      "            492114, 492115],\n",
      "           dtype='int64', length=98423)\n",
      "Int64Index([196846, 196847, 196848, 196849, 196850, 196851, 196852, 196853,\n",
      "            196854, 196855,\n",
      "            ...\n",
      "            492106, 492107, 492108, 492109, 492110, 492111, 492112, 492113,\n",
      "            492114, 492115],\n",
      "           dtype='int64', length=295270)\n",
      "Int64Index([492116, 492117, 492118, 492119, 492120, 492121, 492122, 492123,\n",
      "            492124, 492125,\n",
      "            ...\n",
      "            590529, 590530, 590531, 590532, 590533, 590534, 590535, 590536,\n",
      "            590537, 590538],\n",
      "           dtype='int64', length=98423)\n"
     ]
    }
   ],
   "source": [
    "train_start_index = 0\n",
    "train_end_index = int(len(df_train)/2)\n",
    "skip = int(len(df_train)/6)\n",
    "horizon = int(len(df_train)/6)\n",
    "\n",
    "SPLITS = 3\n",
    "for split in range(SPLITS):\n",
    "    test_start_index = train_end_index\n",
    "    test_end_index = test_start_index + horizon\n",
    "    \n",
    "    X_train = df_train[train_start_index:train_end_index]\n",
    "    X_test = df_train[test_start_index:test_end_index]\n",
    "    \n",
    "    train_start_index += skip\n",
    "    train_end_index += skip\n",
    "    print(X_train.index)\n",
    "    print(X_test.index)"
   ]
  },
  {
   "cell_type": "code",
   "execution_count": 64,
   "metadata": {},
   "outputs": [
    {
     "data": {
      "text/plain": [
       "Int64Index([196846, 196847, 196848, 196849, 196850, 196851, 196852, 196853,\n",
       "            196854, 196855,\n",
       "            ...\n",
       "            492106, 492107, 492108, 492109, 492110, 492111, 492112, 492113,\n",
       "            492114, 492115],\n",
       "           dtype='int64', length=295270)"
      ]
     },
     "execution_count": 64,
     "metadata": {},
     "output_type": "execute_result"
    }
   ],
   "source": [
    "X_train.index"
   ]
  },
  {
   "cell_type": "code",
   "execution_count": 65,
   "metadata": {},
   "outputs": [
    {
     "data": {
      "text/plain": [
       "Int64Index([492116, 492117, 492118, 492119, 492120, 492121, 492122, 492123,\n",
       "            492124, 492125,\n",
       "            ...\n",
       "            590529, 590530, 590531, 590532, 590533, 590534, 590535, 590536,\n",
       "            590537, 590538],\n",
       "           dtype='int64', length=98423)"
      ]
     },
     "execution_count": 65,
     "metadata": {},
     "output_type": "execute_result"
    }
   ],
   "source": [
    "X_test.index"
   ]
  },
  {
   "cell_type": "code",
   "execution_count": 66,
   "metadata": {},
   "outputs": [
    {
     "data": {
      "text/plain": [
       "(590540, 434)"
      ]
     },
     "execution_count": 66,
     "metadata": {},
     "output_type": "execute_result"
    }
   ],
   "source": [
    "df_train.shape"
   ]
  },
  {
   "cell_type": "code",
   "execution_count": 4,
   "metadata": {},
   "outputs": [],
   "source": [
    "df_train = pd.read_csv('../src/make_data/data/003_train.csv',index_col='TransactionID')\n",
    "df_test = pd.read_csv('../src/make_data/data/003_test.csv',index_col='TransactionID')"
   ]
  },
  {
   "cell_type": "code",
   "execution_count": 9,
   "metadata": {},
   "outputs": [
    {
     "data": {
      "text/plain": [
       "0         2\n",
       "1         2\n",
       "2         2\n",
       "3         2\n",
       "4         2\n",
       "5         2\n",
       "6         2\n",
       "7         2\n",
       "8         2\n",
       "9         2\n",
       "10        2\n",
       "11        2\n",
       "12        2\n",
       "13        2\n",
       "14        2\n",
       "15        2\n",
       "16        2\n",
       "17        2\n",
       "18        2\n",
       "19        2\n",
       "20        2\n",
       "21        2\n",
       "22        2\n",
       "23        2\n",
       "24        2\n",
       "25        2\n",
       "26        2\n",
       "27        2\n",
       "28        2\n",
       "29        2\n",
       "         ..\n",
       "590510    1\n",
       "590511    1\n",
       "590512    1\n",
       "590513    1\n",
       "590514    1\n",
       "590515    1\n",
       "590516    1\n",
       "590517    1\n",
       "590518    1\n",
       "590519    1\n",
       "590520    1\n",
       "590521    1\n",
       "590522    1\n",
       "590523    1\n",
       "590524    1\n",
       "590525    1\n",
       "590526    1\n",
       "590527    1\n",
       "590528    1\n",
       "590529    1\n",
       "590530    1\n",
       "590531    1\n",
       "590532    1\n",
       "590533    1\n",
       "590534    1\n",
       "590535    1\n",
       "590536    1\n",
       "590537    1\n",
       "590538    1\n",
       "590539    1\n",
       "Name: day, Length: 590540, dtype: int64"
      ]
     },
     "execution_count": 9,
     "metadata": {},
     "output_type": "execute_result"
    }
   ],
   "source": [
    "df_train['day']"
   ]
  },
  {
   "cell_type": "code",
   "execution_count": 12,
   "metadata": {},
   "outputs": [],
   "source": [
    "import pickle\n",
    "import xgboost as xgb"
   ]
  },
  {
   "cell_type": "code",
   "execution_count": 16,
   "metadata": {},
   "outputs": [],
   "source": [
    "filename = '../model/003_xgb.sav'\n",
    "loaded_model = pickle.load(open(filename,'rb'))\n",
    "df_train = pd.read_csv('../src/make_data/data/003_train.csv',index_col='TransactionID')"
   ]
  },
  {
   "cell_type": "code",
   "execution_count": 20,
   "metadata": {},
   "outputs": [],
   "source": [
    "fti = loaded_model.feature_importances_\n",
    "train = df_train.drop('isFraud',axis=1)"
   ]
  },
  {
   "cell_type": "code",
   "execution_count": 25,
   "metadata": {},
   "outputs": [
    {
     "name": "stderr",
     "output_type": "stream",
     "text": [
      "/anaconda3/envs/mlpy36/lib/python3.6/site-packages/ipykernel_launcher.py:4: SettingWithCopyWarning: \n",
      "A value is trying to be set on a copy of a slice from a DataFrame\n",
      "\n",
      "See the caveats in the documentation: http://pandas.pydata.org/pandas-docs/stable/indexing.html#indexing-view-versus-copy\n",
      "  after removing the cwd from sys.path.\n",
      "/anaconda3/envs/mlpy36/lib/python3.6/site-packages/ipykernel_launcher.py:5: SettingWithCopyWarning: \n",
      "A value is trying to be set on a copy of a slice from a DataFrame\n",
      "\n",
      "See the caveats in the documentation: http://pandas.pydata.org/pandas-docs/stable/indexing.html#indexing-view-versus-copy\n",
      "  \"\"\"\n"
     ]
    }
   ],
   "source": [
    "dict = {\"feat\":np.arange(0,len(train.columns)) , 'importance': np.arange(0,len(train.columns),dtype=float)}\n",
    "df_feat_imp = pd.DataFrame(dict)\n",
    "for i,feat in enumerate(train.columns):\n",
    "    df_feat_imp['feat'][i] = feat\n",
    "    df_feat_imp['importance'][i] = loaded_model.feature_importances_[i]\n",
    "\n",
    "df_feat_imp = df_feat_imp.sort_values(by='importance',ascending=True)\n",
    "\n",
    "# drop_list = list(df_feat_imp['feat'].head(10))"
   ]
  },
  {
   "cell_type": "code",
   "execution_count": 28,
   "metadata": {},
   "outputs": [],
   "source": [
    "df_feat_imp.to_csv('../src/make_data/data/fti_list.csv',index=False)"
   ]
  },
  {
   "cell_type": "code",
   "execution_count": 30,
   "metadata": {},
   "outputs": [],
   "source": [
    "fti = pd.read_csv('../src/make_data/data/fti_list.csv')"
   ]
  },
  {
   "cell_type": "code",
   "execution_count": 32,
   "metadata": {},
   "outputs": [],
   "source": [
    "fti_drop_list = list(df_feat_imp['feat'].head(30))"
   ]
  },
  {
   "cell_type": "code",
   "execution_count": 33,
   "metadata": {},
   "outputs": [
    {
     "data": {
      "text/plain": [
       "['V89',\n",
       " 'V27',\n",
       " 'V28',\n",
       " 'V1',\n",
       " 'V41',\n",
       " 'V305',\n",
       " 'V65',\n",
       " 'V68',\n",
       " 'V88',\n",
       " 'V107',\n",
       " 'V120',\n",
       " 'V14',\n",
       " 'id_35',\n",
       " 'id_27',\n",
       " 'V241',\n",
       " 'V240',\n",
       " 'V117',\n",
       " 'V325',\n",
       " 'V119',\n",
       " 'V113',\n",
       " 'V142',\n",
       " 'V32',\n",
       " 'id_23',\n",
       " 'V328',\n",
       " 'V269',\n",
       " 'V31',\n",
       " 'V122',\n",
       " 'V71',\n",
       " 'id_22',\n",
       " 'V21']"
      ]
     },
     "execution_count": 33,
     "metadata": {},
     "output_type": "execute_result"
    }
   ],
   "source": [
    "fti_drop_list"
   ]
  },
  {
   "cell_type": "code",
   "execution_count": 35,
   "metadata": {},
   "outputs": [
    {
     "data": {
      "text/html": [
       "<div>\n",
       "<style scoped>\n",
       "    .dataframe tbody tr th:only-of-type {\n",
       "        vertical-align: middle;\n",
       "    }\n",
       "\n",
       "    .dataframe tbody tr th {\n",
       "        vertical-align: top;\n",
       "    }\n",
       "\n",
       "    .dataframe thead th {\n",
       "        text-align: right;\n",
       "    }\n",
       "</style>\n",
       "<table border=\"1\" class=\"dataframe\">\n",
       "  <thead>\n",
       "    <tr style=\"text-align: right;\">\n",
       "      <th></th>\n",
       "      <th>feat</th>\n",
       "      <th>importance</th>\n",
       "    </tr>\n",
       "  </thead>\n",
       "  <tbody>\n",
       "    <tr>\n",
       "      <th>0</th>\n",
       "      <td>V89</td>\n",
       "      <td>0.000000</td>\n",
       "    </tr>\n",
       "    <tr>\n",
       "      <th>1</th>\n",
       "      <td>V27</td>\n",
       "      <td>0.000000</td>\n",
       "    </tr>\n",
       "    <tr>\n",
       "      <th>2</th>\n",
       "      <td>V28</td>\n",
       "      <td>0.000000</td>\n",
       "    </tr>\n",
       "    <tr>\n",
       "      <th>3</th>\n",
       "      <td>V1</td>\n",
       "      <td>0.000000</td>\n",
       "    </tr>\n",
       "    <tr>\n",
       "      <th>4</th>\n",
       "      <td>V41</td>\n",
       "      <td>0.000000</td>\n",
       "    </tr>\n",
       "    <tr>\n",
       "      <th>5</th>\n",
       "      <td>V305</td>\n",
       "      <td>0.000000</td>\n",
       "    </tr>\n",
       "    <tr>\n",
       "      <th>6</th>\n",
       "      <td>V65</td>\n",
       "      <td>0.000000</td>\n",
       "    </tr>\n",
       "    <tr>\n",
       "      <th>7</th>\n",
       "      <td>V68</td>\n",
       "      <td>0.000000</td>\n",
       "    </tr>\n",
       "    <tr>\n",
       "      <th>8</th>\n",
       "      <td>V88</td>\n",
       "      <td>0.000000</td>\n",
       "    </tr>\n",
       "    <tr>\n",
       "      <th>9</th>\n",
       "      <td>V107</td>\n",
       "      <td>0.000000</td>\n",
       "    </tr>\n",
       "    <tr>\n",
       "      <th>10</th>\n",
       "      <td>V120</td>\n",
       "      <td>0.000000</td>\n",
       "    </tr>\n",
       "    <tr>\n",
       "      <th>11</th>\n",
       "      <td>V14</td>\n",
       "      <td>0.000000</td>\n",
       "    </tr>\n",
       "    <tr>\n",
       "      <th>12</th>\n",
       "      <td>id_35</td>\n",
       "      <td>0.000000</td>\n",
       "    </tr>\n",
       "    <tr>\n",
       "      <th>13</th>\n",
       "      <td>id_27</td>\n",
       "      <td>0.000000</td>\n",
       "    </tr>\n",
       "    <tr>\n",
       "      <th>14</th>\n",
       "      <td>V241</td>\n",
       "      <td>0.000000</td>\n",
       "    </tr>\n",
       "    <tr>\n",
       "      <th>15</th>\n",
       "      <td>V240</td>\n",
       "      <td>0.000000</td>\n",
       "    </tr>\n",
       "    <tr>\n",
       "      <th>16</th>\n",
       "      <td>V117</td>\n",
       "      <td>0.000011</td>\n",
       "    </tr>\n",
       "    <tr>\n",
       "      <th>17</th>\n",
       "      <td>V325</td>\n",
       "      <td>0.000022</td>\n",
       "    </tr>\n",
       "    <tr>\n",
       "      <th>18</th>\n",
       "      <td>V119</td>\n",
       "      <td>0.000034</td>\n",
       "    </tr>\n",
       "    <tr>\n",
       "      <th>19</th>\n",
       "      <td>V113</td>\n",
       "      <td>0.000034</td>\n",
       "    </tr>\n",
       "    <tr>\n",
       "      <th>20</th>\n",
       "      <td>V142</td>\n",
       "      <td>0.000034</td>\n",
       "    </tr>\n",
       "    <tr>\n",
       "      <th>21</th>\n",
       "      <td>V32</td>\n",
       "      <td>0.000034</td>\n",
       "    </tr>\n",
       "    <tr>\n",
       "      <th>22</th>\n",
       "      <td>id_23</td>\n",
       "      <td>0.000045</td>\n",
       "    </tr>\n",
       "    <tr>\n",
       "      <th>23</th>\n",
       "      <td>V328</td>\n",
       "      <td>0.000045</td>\n",
       "    </tr>\n",
       "    <tr>\n",
       "      <th>24</th>\n",
       "      <td>V269</td>\n",
       "      <td>0.000056</td>\n",
       "    </tr>\n",
       "    <tr>\n",
       "      <th>25</th>\n",
       "      <td>V31</td>\n",
       "      <td>0.000056</td>\n",
       "    </tr>\n",
       "    <tr>\n",
       "      <th>26</th>\n",
       "      <td>V122</td>\n",
       "      <td>0.000056</td>\n",
       "    </tr>\n",
       "    <tr>\n",
       "      <th>27</th>\n",
       "      <td>V71</td>\n",
       "      <td>0.000067</td>\n",
       "    </tr>\n",
       "    <tr>\n",
       "      <th>28</th>\n",
       "      <td>id_22</td>\n",
       "      <td>0.000067</td>\n",
       "    </tr>\n",
       "    <tr>\n",
       "      <th>29</th>\n",
       "      <td>V21</td>\n",
       "      <td>0.000067</td>\n",
       "    </tr>\n",
       "  </tbody>\n",
       "</table>\n",
       "</div>"
      ],
      "text/plain": [
       "     feat  importance\n",
       "0     V89    0.000000\n",
       "1     V27    0.000000\n",
       "2     V28    0.000000\n",
       "3      V1    0.000000\n",
       "4     V41    0.000000\n",
       "5    V305    0.000000\n",
       "6     V65    0.000000\n",
       "7     V68    0.000000\n",
       "8     V88    0.000000\n",
       "9    V107    0.000000\n",
       "10   V120    0.000000\n",
       "11    V14    0.000000\n",
       "12  id_35    0.000000\n",
       "13  id_27    0.000000\n",
       "14   V241    0.000000\n",
       "15   V240    0.000000\n",
       "16   V117    0.000011\n",
       "17   V325    0.000022\n",
       "18   V119    0.000034\n",
       "19   V113    0.000034\n",
       "20   V142    0.000034\n",
       "21    V32    0.000034\n",
       "22  id_23    0.000045\n",
       "23   V328    0.000045\n",
       "24   V269    0.000056\n",
       "25    V31    0.000056\n",
       "26   V122    0.000056\n",
       "27    V71    0.000067\n",
       "28  id_22    0.000067\n",
       "29    V21    0.000067"
      ]
     },
     "execution_count": 35,
     "metadata": {},
     "output_type": "execute_result"
    }
   ],
   "source": [
    "fti.head(30)"
   ]
  },
  {
   "cell_type": "code",
   "execution_count": 36,
   "metadata": {},
   "outputs": [
    {
     "name": "stderr",
     "output_type": "stream",
     "text": [
      "/anaconda3/envs/mlpy36/lib/python3.6/site-packages/scipy/stats/stats.py:1713: FutureWarning: Using a non-tuple sequence for multidimensional indexing is deprecated; use `arr[tuple(seq)]` instead of `arr[seq]`. In the future this will be interpreted as an array index, `arr[np.array(seq)]`, which will result either in an error or a different result.\n",
      "  return np.add.reduce(sorted[indexer] * weights, axis=axis) / sumval\n"
     ]
    },
    {
     "data": {
      "image/png": "[encoded data removed]",
      "text/plain": [
       "<Figure size 1296x288 with 2 Axes>"
      ]
     },
     "metadata": {
      "needs_background": "light"
     },
     "output_type": "display_data"
    }
   ],
   "source": [
    "import seaborn as sns\n",
    "import matplotlib.pyplot as plt\n",
    "\n",
    "fig, ax = plt.subplots(1, 2, figsize=(18,4))\n",
    "\n",
    "time_val = df_train['TransactionAmt'].values\n",
    "\n",
    "sns.distplot(time_val, ax=ax[0], color='r')\n",
    "ax[0].set_title('Distribution of TransactionAmt', fontsize=14)\n",
    "ax[1].set_xlim([min(time_val), max(time_val)])\n",
    "\n",
    "sns.distplot(np.log(time_val), ax=ax[1], color='b')\n",
    "ax[1].set_title('Distribution of LOG TransactionAmt', fontsize=14)\n",
    "ax[1].set_xlim([min(np.log(time_val)), max(np.log(time_val))])\n",
    "\n",
    "plt.show()"
   ]
  },
  {
   "cell_type": "code",
   "execution_count": 39,
   "metadata": {},
   "outputs": [
    {
     "data": {
      "text/plain": [
       "(array([4.00000e+01, 3.42000e+02, 4.69500e+03, 5.91500e+04, 2.69842e+05,\n",
       "        2.01201e+05, 4.64860e+04, 8.42600e+03, 3.56000e+02, 2.00000e+00]),\n",
       " array([-1.38230234, -0.20691883,  0.96846467,  2.14384818,  3.31923169,\n",
       "         4.4946152 ,  5.6699987 ,  6.84538221,  8.02076572,  9.19614923,\n",
       "        10.37153273]),\n",
       " <a list of 10 Patch objects>)"
      ]
     },
     "execution_count": 39,
     "metadata": {},
     "output_type": "execute_result"
    },
    {
     "data": {
      "image/png": "[encoded data removed]",
      "text/plain": [
       "<Figure size 432x288 with 1 Axes>"
      ]
     },
     "metadata": {
      "needs_background": "light"
     },
     "output_type": "display_data"
    }
   ],
   "source": [
    "plt.hist(np.log(df_train['TransactionAmt']))"
   ]
  },
  {
   "cell_type": "code",
   "execution_count": null,
   "metadata": {},
   "outputs": [],
   "source": []
  }
 ],
 "metadata": {
  "jupytext": {
   "text_representation": {
    "extension": ".py",
    "format_name": "light",
    "format_version": "1.4",
    "jupytext_version": "1.1.1"
   }
  },
  "kernelspec": {
   "display_name": "mlpy36",
   "language": "python",
   "name": "mlpy36"
  },
  "language_info": {
   "codemirror_mode": {
    "name": "ipython",
    "version": 3
   },
   "file_extension": ".py",
   "mimetype": "text/x-python",
   "name": "python",
   "nbconvert_exporter": "python",
   "pygments_lexer": "ipython3",
   "version": "3.6.7"
  }
 },
 "nbformat": 4,
 "nbformat_minor": 2
}
