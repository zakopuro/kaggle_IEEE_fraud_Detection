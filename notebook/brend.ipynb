{
 "cells": [
  {
   "cell_type": "code",
   "execution_count": 28,
   "metadata": {},
   "outputs": [],
   "source": [
    "import pandas as pd\n",
    "import numpy as np\n",
    "import os\n",
    "import glob"
   ]
  },
  {
   "cell_type": "code",
   "execution_count": 29,
   "metadata": {},
   "outputs": [],
   "source": [
    "input_path = '../output/blend/*.csv'\n",
    "# input_path = '/Users/zakopuro/Code/python_code/kaggle/test_blend/*.csv'\n",
    "sub_path = glob.glob(input_path)"
   ]
  },
  {
   "cell_type": "code",
   "execution_count": 30,
   "metadata": {},
   "outputs": [
    {
     "data": {
      "text/plain": [
       "['../output/blend/057_sub_blend.csv',\n",
       " '../output/blend/kernel9518.csv',\n",
       " '../output/blend/kernel9527.csv']"
      ]
     },
     "execution_count": 30,
     "metadata": {},
     "output_type": "execute_result"
    }
   ],
   "source": [
    "sub_path"
   ]
  },
  {
   "cell_type": "code",
   "execution_count": 31,
   "metadata": {},
   "outputs": [],
   "source": [
    "\n",
    "# for i,path in enumerate(sub_path):\n",
    "# input_path = '../output/blend/'\n",
    "# sub1 = pd.read_csv(input_path+'055_sub_lgb.csv')\n",
    "# sub2 = pd.read_csv(input_path+'049_sub_lgb.csv')\n",
    "# sub3 = pd.read_csv(input_path+'kernel0.9467.csv')\n",
    "# sub4 = pd.read_csv(input_path+'kernel0.9484.csv')\n",
    "# sub2 = pd.read_csv(input_path+'kernel1.csv')\n",
    "# sub3 = pd.read_csv(input_path+'kernel2.csv')\n",
    "# sub4 = pd.read_csv(input_path+'kernel3.csv')\n",
    "# sub5 = pd.read_csv(input_path+'049_sub_lgb.csv')\n",
    "# sub6 = pd.read_csv(input_path+'kernel4.csv')\n",
    "# sub7 = pd.read_csv(input_path+'055_sub_lgb.csv')\n",
    "# sub5 = pd.read_csv(input_path+'kernel_NN.csv')\n",
    "sub1 = pd.read_csv(sub_path[0])\n",
    "sub2 = pd.read_csv(sub_path[1])\n",
    "sub3 = pd.read_csv(sub_path[2])\n",
    "# sub4 = pd.read_csv(sub_path[3])\n",
    "# sub5 = pd.read_csv(sub_path[4])\n",
    "# sub6 = pd.read_csv(sub_path[5])\n",
    "# sub7 = pd.read_csv(sub_paht[6])\n",
    "# sub8 = pd.read_csv(sub_paht[7])\n",
    "# sub9 = pd.read_csv(sub_paht[8])\n",
    "# sub10 = pd.read_csv(sub_paht[9])\n",
    "# sub11 = pd.read_csv(sub_paht[10])"
   ]
  },
  {
   "cell_type": "code",
   "execution_count": 5,
   "metadata": {},
   "outputs": [],
   "source": [
    "sub_all = pd.concat([sub1['TransactionID'],sub1['isFraud'],sub2['isFraud'],sub3['isFraud'],sub4['isFraud']],axis=1)"
   ]
  },
  {
   "cell_type": "code",
   "execution_count": 7,
   "metadata": {},
   "outputs": [],
   "source": [
    "# sub_all.columns = ['TransactionID','m0','m1','m2','m3','m4','m5']\n",
    "sub_all.columns = ['id','m0','m1','m2','m3']"
   ]
  },
  {
   "cell_type": "code",
   "execution_count": 8,
   "metadata": {},
   "outputs": [],
   "source": [
    "ncol = sub_all.shape[1]"
   ]
  },
  {
   "cell_type": "code",
   "execution_count": 9,
   "metadata": {},
   "outputs": [
    {
     "data": {
      "text/html": [
       "<div>\n",
       "<style scoped>\n",
       "    .dataframe tbody tr th:only-of-type {\n",
       "        vertical-align: middle;\n",
       "    }\n",
       "\n",
       "    .dataframe tbody tr th {\n",
       "        vertical-align: top;\n",
       "    }\n",
       "\n",
       "    .dataframe thead th {\n",
       "        text-align: right;\n",
       "    }\n",
       "</style>\n",
       "<table border=\"1\" class=\"dataframe\">\n",
       "  <thead>\n",
       "    <tr style=\"text-align: right;\">\n",
       "      <th></th>\n",
       "      <th>m0</th>\n",
       "      <th>m1</th>\n",
       "      <th>m2</th>\n",
       "      <th>m3</th>\n",
       "    </tr>\n",
       "  </thead>\n",
       "  <tbody>\n",
       "    <tr>\n",
       "      <th>m0</th>\n",
       "      <td>1.000000</td>\n",
       "      <td>0.977296</td>\n",
       "      <td>0.985290</td>\n",
       "      <td>0.989777</td>\n",
       "    </tr>\n",
       "    <tr>\n",
       "      <th>m1</th>\n",
       "      <td>0.977296</td>\n",
       "      <td>1.000000</td>\n",
       "      <td>0.974461</td>\n",
       "      <td>0.982678</td>\n",
       "    </tr>\n",
       "    <tr>\n",
       "      <th>m2</th>\n",
       "      <td>0.985290</td>\n",
       "      <td>0.974461</td>\n",
       "      <td>1.000000</td>\n",
       "      <td>0.997080</td>\n",
       "    </tr>\n",
       "    <tr>\n",
       "      <th>m3</th>\n",
       "      <td>0.989777</td>\n",
       "      <td>0.982678</td>\n",
       "      <td>0.997080</td>\n",
       "      <td>1.000000</td>\n",
       "    </tr>\n",
       "  </tbody>\n",
       "</table>\n",
       "</div>"
      ],
      "text/plain": [
       "          m0        m1        m2        m3\n",
       "m0  1.000000  0.977296  0.985290  0.989777\n",
       "m1  0.977296  1.000000  0.974461  0.982678\n",
       "m2  0.985290  0.974461  1.000000  0.997080\n",
       "m3  0.989777  0.982678  0.997080  1.000000"
      ]
     },
     "execution_count": 9,
     "metadata": {},
     "output_type": "execute_result"
    }
   ],
   "source": [
    "sub_all.iloc[:,1:ncol].corr()"
   ]
  },
  {
   "cell_type": "code",
   "execution_count": 10,
   "metadata": {},
   "outputs": [],
   "source": [
    "# rank = np.tril(sub_all.iloc[:,1:ncol].corr().values,-1)\n",
    "# m_gmean = 0\n",
    "# m = 12\n",
    "rank = np.tril(sub_all.iloc[:,1:].corr().values,-1)\n",
    "m = (rank>0).sum()\n",
    "m_gmean, s = 0, 0"
   ]
  },
  {
   "cell_type": "code",
   "execution_count": 11,
   "metadata": {},
   "outputs": [
    {
     "name": "stdout",
     "output_type": "stream",
     "text": [
      "1.0\n",
      "0.7142857142857143\n",
      "0.5\n",
      "0.3333333333333333\n"
     ]
    }
   ],
   "source": [
    "# for n in range(m):\n",
    "#     mx = np.unravel_index(rank.argmin(), rank.shape)\n",
    "#     m_gmean += (m-n)*(np.log(sub_all.iloc[:, mx[0]+1]) + np.log(sub_all.iloc[:, mx[1]+1]))/2\n",
    "#     rank[mx] = 1\n",
    "# m_gmean = np.exp(m_gmean/s)\n",
    "for n in range(min(rank.shape[0],m)):\n",
    "    mx = np.unravel_index(rank.argmin(), rank.shape)\n",
    "    w = (m-n)/(m+n)\n",
    "    print(w)\n",
    "    m_gmean += w*(np.log(sub_all.iloc[:,mx[0]+1])+np.log(sub_all.iloc[:,mx[1]+1]))/2\n",
    "    s += w\n",
    "    rank[mx] = 1\n",
    "m_gmean = np.exp(m_gmean/s)"
   ]
  },
  {
   "cell_type": "code",
   "execution_count": 12,
   "metadata": {},
   "outputs": [
    {
     "data": {
      "text/plain": [
       "0         0.001768\n",
       "1         0.004399\n",
       "2         0.003381\n",
       "3         0.003218\n",
       "4         0.003541\n",
       "5         0.005533\n",
       "6         0.017031\n",
       "7         0.025741\n",
       "8         0.001138\n",
       "9         0.007272\n",
       "10        0.010278\n",
       "11        0.007526\n",
       "12        0.041324\n",
       "13        0.004745\n",
       "14        0.005401\n",
       "15        0.008285\n",
       "16        0.004532\n",
       "17        0.007127\n",
       "18        0.018434\n",
       "19        0.009960\n",
       "20        0.008048\n",
       "21        0.004938\n",
       "22        0.013549\n",
       "23        0.006427\n",
       "24        0.016773\n",
       "25        0.021308\n",
       "26        0.007751\n",
       "27        0.011822\n",
       "28        0.006655\n",
       "29        0.010908\n",
       "            ...   \n",
       "506661    0.009976\n",
       "506662    0.024149\n",
       "506663    0.005891\n",
       "506664    0.005700\n",
       "506665    0.010776\n",
       "506666    0.009323\n",
       "506667    0.012101\n",
       "506668    0.003545\n",
       "506669    0.035649\n",
       "506670    0.008377\n",
       "506671    0.007728\n",
       "506672    0.010086\n",
       "506673    0.002579\n",
       "506674    0.008380\n",
       "506675    0.030910\n",
       "506676    0.046031\n",
       "506677    0.006336\n",
       "506678    0.003225\n",
       "506679    0.033208\n",
       "506680    0.018245\n",
       "506681    0.024944\n",
       "506682    0.016190\n",
       "506683    0.004048\n",
       "506684    0.006722\n",
       "506685    0.005454\n",
       "506686    0.016023\n",
       "506687    0.009800\n",
       "506688    0.009911\n",
       "506689    0.012911\n",
       "506690    0.006133\n",
       "Name: m0, Length: 506691, dtype: float64"
      ]
     },
     "execution_count": 12,
     "metadata": {},
     "output_type": "execute_result"
    }
   ],
   "source": [
    "m_gmean"
   ]
  },
  {
   "cell_type": "code",
   "execution_count": 13,
   "metadata": {},
   "outputs": [],
   "source": [
    "sub1['isFraud'] = m_gmean"
   ]
  },
  {
   "cell_type": "code",
   "execution_count": 32,
   "metadata": {},
   "outputs": [],
   "source": [
    "sub1['isFraud'] = sub1['isFraud'] *0.2 + sub2['isFraud'] * 0.3 + sub3['isFraud'] *0.5"
   ]
  },
  {
   "cell_type": "code",
   "execution_count": 33,
   "metadata": {},
   "outputs": [
    {
     "data": {
      "text/html": [
       "<div>\n",
       "<style scoped>\n",
       "    .dataframe tbody tr th:only-of-type {\n",
       "        vertical-align: middle;\n",
       "    }\n",
       "\n",
       "    .dataframe tbody tr th {\n",
       "        vertical-align: top;\n",
       "    }\n",
       "\n",
       "    .dataframe thead th {\n",
       "        text-align: right;\n",
       "    }\n",
       "</style>\n",
       "<table border=\"1\" class=\"dataframe\">\n",
       "  <thead>\n",
       "    <tr style=\"text-align: right;\">\n",
       "      <th></th>\n",
       "      <th>TransactionID</th>\n",
       "      <th>isFraud</th>\n",
       "    </tr>\n",
       "  </thead>\n",
       "  <tbody>\n",
       "    <tr>\n",
       "      <th>0</th>\n",
       "      <td>3663549</td>\n",
       "      <td>0.002206</td>\n",
       "    </tr>\n",
       "    <tr>\n",
       "      <th>1</th>\n",
       "      <td>3663550</td>\n",
       "      <td>0.005805</td>\n",
       "    </tr>\n",
       "    <tr>\n",
       "      <th>2</th>\n",
       "      <td>3663551</td>\n",
       "      <td>0.004105</td>\n",
       "    </tr>\n",
       "    <tr>\n",
       "      <th>3</th>\n",
       "      <td>3663552</td>\n",
       "      <td>0.003276</td>\n",
       "    </tr>\n",
       "    <tr>\n",
       "      <th>4</th>\n",
       "      <td>3663553</td>\n",
       "      <td>0.005053</td>\n",
       "    </tr>\n",
       "  </tbody>\n",
       "</table>\n",
       "</div>"
      ],
      "text/plain": [
       "   TransactionID   isFraud\n",
       "0        3663549  0.002206\n",
       "1        3663550  0.005805\n",
       "2        3663551  0.004105\n",
       "3        3663552  0.003276\n",
       "4        3663553  0.005053"
      ]
     },
     "execution_count": 33,
     "metadata": {},
     "output_type": "execute_result"
    }
   ],
   "source": [
    "sub1.head()"
   ]
  },
  {
   "cell_type": "code",
   "execution_count": 34,
   "metadata": {},
   "outputs": [],
   "source": [
    "sub1.to_csv('/Users/zakopuro/Code/python_code/kaggle/IEEE_Fraud_Detection/output/087_sub_blend.csv',index=False)"
   ]
  },
  {
   "cell_type": "code",
   "execution_count": null,
   "metadata": {},
   "outputs": [],
   "source": []
  }
 ],
 "metadata": {
  "kernelspec": {
   "display_name": "mlpy36",
   "language": "python",
   "name": "mlpy36"
  },
  "language_info": {
   "codemirror_mode": {
    "name": "ipython",
    "version": 3
   },
   "file_extension": ".py",
   "mimetype": "text/x-python",
   "name": "python",
   "nbconvert_exporter": "python",
   "pygments_lexer": "ipython3",
   "version": "3.6.7"
  }
 },
 "nbformat": 4,
 "nbformat_minor": 2
}
