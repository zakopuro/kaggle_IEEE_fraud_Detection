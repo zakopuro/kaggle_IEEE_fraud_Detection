{
 "cells": [
  {
   "cell_type": "code",
   "execution_count": 1,
   "metadata": {},
   "outputs": [],
   "source": [
    "import numpy as np\n",
    "import pandas as pd\n",
    "import matplotlib.pyplot as plt\n",
    "from tqdm import tqdm\n",
    "from sklearn import preprocessing"
   ]
  },
  {
   "cell_type": "code",
   "execution_count": 2,
   "metadata": {},
   "outputs": [],
   "source": [
    "df_train_iden = pd.read_csv('../IEEE_Fraud_Detection/input/train_identity.csv')\n",
    "df_train_trans = pd.read_csv('../IEEE_Fraud_Detection/input/train_transaction.csv')\n",
    "df_test_iden = pd.read_csv('../IEEE_Fraud_Detection/input/test_identity.csv')\n",
    "df_test_trans = pd.read_csv('../IEEE_Fraud_Detection/input/test_transaction.csv')\n",
    "\n",
    "df_train = df_train_trans.merge(df_train_iden,how='left',left_index=True,right_index=True)\n",
    "df_test = df_test_trans.merge(df_test_iden,how='left',left_index=True,right_index=True)"
   ]
  },
  {
   "cell_type": "code",
   "execution_count": 3,
   "metadata": {},
   "outputs": [
    {
     "data": {
      "text/plain": [
       "((590540, 435), (506691, 434))"
      ]
     },
     "execution_count": 3,
     "metadata": {},
     "output_type": "execute_result"
    }
   ],
   "source": [
    "df_train.shape,df_test.shape"
   ]
  },
  {
   "cell_type": "code",
   "execution_count": 4,
   "metadata": {},
   "outputs": [],
   "source": [
    "df_train = df_train.drop('isFraud', axis=1)"
   ]
  },
  {
   "cell_type": "code",
   "execution_count": null,
   "metadata": {},
   "outputs": [
    {
     "name": "stderr",
     "output_type": "stream",
     "text": [
      "  0%|          | 0/434 [00:00<?, ?it/s]"
     ]
    }
   ],
   "source": [
    "for col in tqdm(df_test.columns):\n",
    "    if df_train[col].dtype == 'object' or df_test[col].dtype == 'object':\n",
    "        lbl = preprocessing.LabelEncoder()\n",
    "        lbl.fit(list(df_train.values) + list(df_test.values))\n",
    "        df_train[col] = lbl.transform(list(df_train[col].values))\n",
    "        df_test[col] = lbl.transform(list(df_test[col].values))"
   ]
  },
  {
   "cell_type": "code",
   "execution_count": null,
   "metadata": {},
   "outputs": [],
   "source": []
  }
 ],
 "metadata": {
  "jupytext": {
   "main_language": "python",
   "text_representation": {
    "extension": ".py",
    "format_name": "light",
    "format_version": "1.4",
    "jupytext_version": "1.1.1"
   }
  },
  "kernelspec": {
   "display_name": "mlpy36",
   "language": "python",
   "name": "mlpy36"
  },
  "language_info": {
   "codemirror_mode": {
    "name": "ipython",
    "version": 3
   },
   "file_extension": ".py",
   "mimetype": "text/x-python",
   "name": "python",
   "nbconvert_exporter": "python",
   "pygments_lexer": "ipython3",
   "version": "3.6.7"
  }
 },
 "nbformat": 4,
 "nbformat_minor": 2
}
