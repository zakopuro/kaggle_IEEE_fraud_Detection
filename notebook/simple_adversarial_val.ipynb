{
 "cells": [
  {
   "cell_type": "code",
   "execution_count": 1,
   "metadata": {},
   "outputs": [
    {
     "name": "stderr",
     "output_type": "stream",
     "text": [
      "/anaconda3/envs/py37/lib/python3.7/site-packages/lightgbm/__init__.py:46: UserWarning: Starting from version 2.2.1, the library file in distribution wheels for macOS is built by the Apple Clang (Xcode_9.4.1) compiler.\n",
      "This means that in case of installing LightGBM from PyPI via the ``pip install lightgbm`` command, you don't need to install the gcc compiler anymore.\n",
      "Instead of that, you need to install the OpenMP library, which is required for running LightGBM on the system with the Apple Clang compiler.\n",
      "You can install the OpenMP library by the following command: ``brew install libomp``.\n",
      "  \"You can install the OpenMP library by the following command: ``brew install libomp``.\", UserWarning)\n"
     ]
    }
   ],
   "source": [
    "from scipy import stats\n",
    "import numpy as np\n",
    "import pandas as pd\n",
    "from tqdm import tqdm\n",
    "from sklearn.preprocessing import LabelEncoder\n",
    "from sklearn.model_selection import train_test_split\n",
    "from sklearn.ensemble import RandomForestClassifier\n",
    "import lightgbm as lgb\n",
    "from sklearn.metrics import roc_auc_score\n",
    "from sklearn.metrics import accuracy_score\n",
    "from sklearn.metrics import confusion_matrix\n",
    "from sklearn.model_selection import TimeSeriesSplit\n",
    "from tqdm import tqdm\n",
    "from sklearn.preprocessing import LabelEncoder\n",
    "from sklearn.model_selection import KFold"
   ]
  },
  {
   "cell_type": "code",
   "execution_count": 21,
   "metadata": {},
   "outputs": [],
   "source": [
    "train = pd.read_pickle('../src/make_data/data/030_train.pkl')\n",
    "test = pd.read_pickle('../src/make_data/data/030_test.pkl')"
   ]
  },
  {
   "cell_type": "code",
   "execution_count": 22,
   "metadata": {},
   "outputs": [],
   "source": [
    "test_split = 5\n",
    "test_index = np.array_split(test.index,test_split)"
   ]
  },
  {
   "cell_type": "code",
   "execution_count": 23,
   "metadata": {},
   "outputs": [],
   "source": [
    "test = test.loc[test_index[0]]"
   ]
  },
  {
   "cell_type": "code",
   "execution_count": 24,
   "metadata": {},
   "outputs": [],
   "source": [
    "train = train.drop(['isFraud','TransactionDT','month'],axis=1)\n",
    "test = test.drop(['TransactionDT','month'],axis=1)"
   ]
  },
  {
   "cell_type": "code",
   "execution_count": 25,
   "metadata": {},
   "outputs": [
    {
     "name": "stdout",
     "output_type": "stream",
     "text": [
      "(590540, 643) (101339, 643)\n"
     ]
    }
   ],
   "source": [
    "print(train.shape,test.shape)"
   ]
  },
  {
   "cell_type": "code",
   "execution_count": 26,
   "metadata": {},
   "outputs": [
    {
     "name": "stderr",
     "output_type": "stream",
     "text": [
      "100%|██████████| 41/41 [00:45<00:00,  1.73it/s]\n"
     ]
    }
   ],
   "source": [
    "for f in tqdm(train.select_dtypes(include='category').columns.tolist() + train.select_dtypes(include='object').columns.tolist()):\n",
    "    lbl = LabelEncoder()\n",
    "    lbl.fit(list(train[f].values) + list(test[f].values))\n",
    "    train[f] = lbl.transform(list(train[f].values))\n",
    "    test[f] = lbl.transform(list(test[f].values))"
   ]
  },
  {
   "cell_type": "code",
   "execution_count": 27,
   "metadata": {},
   "outputs": [],
   "source": [
    "train['target'] = 0\n",
    "test['target'] = 1"
   ]
  },
  {
   "cell_type": "code",
   "execution_count": 28,
   "metadata": {},
   "outputs": [],
   "source": [
    "train_test = pd.concat([train, test], axis =0)\n",
    "target = train_test['target'].values"
   ]
  },
  {
   "cell_type": "code",
   "execution_count": 29,
   "metadata": {},
   "outputs": [],
   "source": [
    "x = train_test.drop('target',axis=1)\n",
    "# y = train_test.drop('target',axis=1)"
   ]
  },
  {
   "cell_type": "code",
   "execution_count": 30,
   "metadata": {},
   "outputs": [],
   "source": [
    "x_train, x_test, y_train,y_test = train_test_split(x,target,test_size=0.33, random_state=42, shuffle=True)"
   ]
  },
  {
   "cell_type": "code",
   "execution_count": 31,
   "metadata": {},
   "outputs": [],
   "source": [
    "# X_train = X_train.drop('card2',axis=1)\n",
    "# X_test = X_test.drop('card2',axis=1)"
   ]
  },
  {
   "cell_type": "code",
   "execution_count": 32,
   "metadata": {},
   "outputs": [],
   "source": [
    "train_lgb = lgb.Dataset(x_train, label=y_train)\n",
    "test_lgb = lgb.Dataset(x_test, label=y_test)"
   ]
  },
  {
   "cell_type": "code",
   "execution_count": 33,
   "metadata": {},
   "outputs": [],
   "source": [
    "param = {'num_leaves': 50,\n",
    "         'min_data_in_leaf': 30, \n",
    "         'objective':'binary',\n",
    "         'max_depth': 5,\n",
    "         'learning_rate': 0.2,\n",
    "         \"min_child_samples\": 20,\n",
    "         \"boosting\": \"gbdt\",\n",
    "         \"feature_fraction\": 0.9,\n",
    "         \"bagging_freq\": 1,\n",
    "         \"bagging_fraction\": 0.9 ,\n",
    "         \"bagging_seed\": 44,\n",
    "         \"metric\": 'auc',\n",
    "         \"verbosity\": -1}"
   ]
  },
  {
   "cell_type": "code",
   "execution_count": 34,
   "metadata": {},
   "outputs": [
    {
     "data": {
      "text/plain": [
       "(101339, 644)"
      ]
     },
     "execution_count": 34,
     "metadata": {},
     "output_type": "execute_result"
    }
   ],
   "source": [
    "test.shape"
   ]
  },
  {
   "cell_type": "code",
   "execution_count": 35,
   "metadata": {},
   "outputs": [
    {
     "name": "stdout",
     "output_type": "stream",
     "text": [
      "Training until validation scores don't improve for 50 rounds.\n",
      "[50]\ttraining's auc: 1\tvalid_1's auc: 1\n",
      "Early stopping, best iteration is:\n",
      "[1]\ttraining's auc: 1\tvalid_1's auc: 1\n"
     ]
    }
   ],
   "source": [
    "num_round = 100\n",
    "clf = lgb.train(\n",
    "    param,\n",
    "    train_lgb,\n",
    "    num_round,\n",
    "    valid_sets=[train_lgb, test_lgb],\n",
    "    verbose_eval=50,\n",
    "    early_stopping_rounds = 50\n",
    ")"
   ]
  },
  {
   "cell_type": "code",
   "execution_count": 36,
   "metadata": {},
   "outputs": [
    {
     "data": {
      "text/plain": [
       "<matplotlib.axes._subplots.AxesSubplot at 0x1a6d943898>"
      ]
     },
     "execution_count": 36,
     "metadata": {},
     "output_type": "execute_result"
    },
    {
     "data": {
      "image/png": "[encoded data removed]",
      "text/plain": [
       "<Figure size 432x288 with 1 Axes>"
      ]
     },
     "metadata": {
      "needs_background": "light"
     },
     "output_type": "display_data"
    }
   ],
   "source": [
    "lgb.plot_importance(clf,max_num_features=5)"
   ]
  },
  {
   "cell_type": "code",
   "execution_count": null,
   "metadata": {},
   "outputs": [
    {
     "name": "stdout",
     "output_type": "stream",
     "text": [
      "Training until validation scores don't improve for 50 rounds.\n",
      "[50]\ttraining's auc: 1\tvalid_1's auc: 1\n",
      "Early stopping, best iteration is:\n",
      "[1]\ttraining's auc: 1\tvalid_1's auc: 1\n",
      "1.0\n",
      "['TransactionAmt', 'id_36_count_dist', 'id_02', 'id_36', 'id_31_count_dist', 'id_01_count_dist', 'card2', 'id_19', 'id_33', 'id_35', 'id_16', 'id_37', 'id_38', 'DeviceType', 'DeviceInfo']\n",
      "Training until validation scores don't improve for 50 rounds.\n",
      "[50]\ttraining's auc: 1\tvalid_1's auc: 1\n",
      "Early stopping, best iteration is:\n",
      "[1]\ttraining's auc: 1\tvalid_1's auc: 1\n",
      "1.0\n",
      "['card1', 'id_33_count_dist', 'id_35_count_dist', 'ProductCD', 'card3', 'id_31_e_6.4', 'id_26', 'id_28', 'id_29', 'id_30', 'id_31', 'id_32', 'id_34', 'dow', 'hour']\n",
      "Training until validation scores don't improve for 50 rounds.\n",
      "[50]\ttraining's auc: 0.998075\tvalid_1's auc: 0.997966\n",
      "[100]\ttraining's auc: 0.99984\tvalid_1's auc: 0.999808\n",
      "Did not meet early stopping. Best iteration is:\n",
      "[100]\ttraining's auc: 0.99984\tvalid_1's auc: 0.999808\n",
      "0.9998078701760662\n",
      "['D15', 'card2_min_mean', 'TransactionAmt_to_std_card3', 'addr1_min_mean', 'D15_to_std_addr1', 'Trans_min_std', 'D15_to_std_card4', 'addr1', 'id_13', 'TransactionAmt_to_std_card4', 'TransactionAmt_Log', 'day', 'card2_count_full', 'D11', 'id_31_v']\n"
     ]
    }
   ],
   "source": [
    "while True:\n",
    "    trn_data = lgb.Dataset(x_train, label=y_train)\n",
    "    val_data = lgb.Dataset(x_test, label=y_test)\n",
    "\n",
    "    num_round = 100\n",
    "    lgb_model = lgb.train(\n",
    "                param,\n",
    "                trn_data,\n",
    "                num_round,\n",
    "                valid_sets=[trn_data, val_data],\n",
    "                verbose_eval=50,\n",
    "                early_stopping_rounds = 50\n",
    "                )\n",
    "\n",
    "    pred = lgb_model.predict(x_test)\n",
    "    auc = roc_auc_score(y_test, pred)\n",
    "    print(auc)\n",
    "    if auc < 0.75:\n",
    "        break\n",
    "    \n",
    "    importance = pd.DataFrame(lgb_model.feature_importance(), index=x_train.columns, columns=['importance']).sort_values(by='importance',ascending=False)\n",
    "    list_drop = list(importance.index[:15])\n",
    "    x_train = x_train.drop(list_drop,axis=1)\n",
    "    x_test = x_test.drop(list_drop,axis=1)\n",
    "    print(list_drop)"
   ]
  },
  {
   "cell_type": "code",
   "execution_count": null,
   "metadata": {},
   "outputs": [],
   "source": [
    "x_train, x_test, y_train,y_test = train_test_split(x,target,test_size=0.33, random_state=42, shuffle=True)\n",
    "x_train = x_train.drop(['month'],axis=1)\n",
    "x_test = x_test.drop(['month'],axis=1)"
   ]
  },
  {
   "cell_type": "code",
   "execution_count": null,
   "metadata": {},
   "outputs": [],
   "source": [
    "sh_train_test = train_test.sample(frac=1)\n",
    "x = sh_train_test.drop('target',axis=1)\n",
    "target = sh_train_test['target'].values"
   ]
  },
  {
   "cell_type": "code",
   "execution_count": 30,
   "metadata": {},
   "outputs": [
    {
     "name": "stdout",
     "output_type": "stream",
     "text": [
      "[      5       8      20 ... 1097221 1097223 1097228]\n",
      "0.7469515107639056\n",
      "[      3      10      15 ... 1097224 1097227 1097229]\n",
      "0.7469515107639056\n",
      "[      4       6      11 ... 1097225 1097226 1097230]\n",
      "0.7469515107639056\n",
      "[      0      27      31 ... 1097199 1097205 1097219]\n",
      "0.7469515107639056\n",
      "[      1       2       7 ... 1097216 1097217 1097222]\n",
      "0.7469515107639056\n"
     ]
    }
   ],
   "source": [
    "# while True:\n",
    "kfold_splits = 5\n",
    "folds = KFold(n_splits=kfold_splits,shuffle=True)\n",
    "for fold_, (trn_idx, val_idx) in enumerate(folds.split(x.values, target)):\n",
    "    print(val_idx)\n",
    "#     train_df, y_train_df = X_train.iloc[trn_idx], target.iloc[trn_idx]\n",
    "#     valid_df, y_valid_df = X_train.iloc[val_idx], target.iloc[val_idx]\n",
    "\n",
    "#     trn_data = lgb.Dataset(train_df, label=y_train_df)\n",
    "#     val_data = lgb.Dataset(valid_df, label=y_valid_df)\n",
    "\n",
    "#     num_round = 100\n",
    "#     lgb_model = lgb.train(\n",
    "#                 param,\n",
    "#                 trn_data,\n",
    "#                 num_round,\n",
    "#                 valid_sets=[trn_data, val_data],\n",
    "#                 verbose_eval=50,\n",
    "#                 early_stopping_rounds = 50\n",
    "#                 )\n",
    "\n",
    "#     pred = lgb_model.predict(valid_df)\n",
    "#     auc = roc_auc_score(y_test, pred)\n",
    "    print(auc)\n",
    "#         if auc < 0.75:\n",
    "#             break"
   ]
  },
  {
   "cell_type": "code",
   "execution_count": 28,
   "metadata": {},
   "outputs": [
    {
     "data": {
      "text/plain": [
       "<generator object _BaseKFold.split at 0x1a5a1637c8>"
      ]
     },
     "execution_count": 28,
     "metadata": {},
     "output_type": "execute_result"
    }
   ],
   "source": [
    "folds.split(x.values, target)"
   ]
  },
  {
   "cell_type": "code",
   "execution_count": null,
   "metadata": {},
   "outputs": [],
   "source": []
  }
 ],
 "metadata": {
  "kernelspec": {
   "display_name": "py37",
   "language": "python",
   "name": "py37"
  },
  "language_info": {
   "codemirror_mode": {
    "name": "ipython",
    "version": 3
   },
   "file_extension": ".py",
   "mimetype": "text/x-python",
   "name": "python",
   "nbconvert_exporter": "python",
   "pygments_lexer": "ipython3",
   "version": "3.7.3"
  }
 },
 "nbformat": 4,
 "nbformat_minor": 2
}
